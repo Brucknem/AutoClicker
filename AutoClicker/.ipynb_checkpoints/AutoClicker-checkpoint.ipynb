{
 "cells": [
  {
   "cell_type": "code",
   "execution_count": 1,
   "metadata": {},
   "outputs": [],
   "source": [
    "# Code to check if left or right mouse buttons were pressed\n",
    "import win32api\n",
    "from time import sleep\n",
    "import pyautogui as autogui\n",
    "#import tkinter as tk\n",
    "import tkinter as tk\n",
    "from tkinter import filedialog\n",
    "import threading\n",
    "from datetime import datetime\n",
    "import keyboard  # using module keyboard\n",
    "import pythoncom, pyHook\n",
    "import os "
   ]
  },
  {
   "cell_type": "code",
   "execution_count": 2,
   "metadata": {},
   "outputs": [],
   "source": [
    "left_click_text = \"Left click \"\n",
    "right_click_text = \"Right click \"\n",
    "double_prefix = \"Double \"\n",
    "delay_text = \"Delay \"\n",
    "double_click_delay = 200\n",
    "file_extension = \".autoclicker\"\n",
    "ctrl = \"ctrl + \"\n",
    "alt = \"alt + \"\n",
    "shift = \"shift + \""
   ]
  },
  {
   "cell_type": "code",
   "execution_count": 3,
   "metadata": {},
   "outputs": [],
   "source": [
    "record_toggle = 0\n",
    "play_toggle = 0\n",
    "repetition_entry = 0\n",
    "infinite_checkbox = 0\n",
    "\n",
    "is_shift = False\n",
    "is_ctrl = False\n",
    "is_alt = False\n",
    "\n",
    "is_recording = False\n",
    "is_running = False\n",
    "\n",
    "last_click = datetime.now()\n",
    "last_side = 0\n",
    "click_counter = 1\n",
    "last_was_keyboard = False\n",
    "\n",
    "repetitions = 0\n",
    "infinite_repetitions = 0\n",
    "\n",
    "is_filedialog_open = False"
   ]
  },
  {
   "cell_type": "code",
   "execution_count": 4,
   "metadata": {},
   "outputs": [],
   "source": [
    "def get_text():\n",
    "    text_field.configure(state=\"normal\")\n",
    "    s = text_field.get(\"1.0\", tk.END)\n",
    "    text_field.configure(state=\"disabled\")    \n",
    "    return s"
   ]
  },
  {
   "cell_type": "code",
   "execution_count": 5,
   "metadata": {},
   "outputs": [],
   "source": [
    "def add_text(text):\n",
    "    text_field.configure(state=\"normal\")\n",
    "    text_field.insert(tk.END, text + '\\n')\n",
    "    text_field.see(tk.END)\n",
    "    text_field.configure(state=\"disabled\")    "
   ]
  },
  {
   "cell_type": "code",
   "execution_count": 6,
   "metadata": {},
   "outputs": [],
   "source": [
    "def delete_text():\n",
    "    text_field.configure(state=\"normal\")\n",
    "    text_field.delete(\"1.0\", tk.END)\n",
    "    text_field.configure(state=\"disabled\")    "
   ]
  },
  {
   "cell_type": "code",
   "execution_count": 7,
   "metadata": {},
   "outputs": [],
   "source": [
    "def get_delay():\n",
    "    global last_click\n",
    "    return int((datetime.now() - last_click).total_seconds() * 1000)"
   ]
  },
  {
   "cell_type": "code",
   "execution_count": 8,
   "metadata": {},
   "outputs": [],
   "source": [
    "def remove_from_end(count):\n",
    "    s = get_text()\n",
    "    delete_text()\n",
    "    add_text(s[:len(s) - count])"
   ]
  },
  {
   "cell_type": "code",
   "execution_count": 9,
   "metadata": {},
   "outputs": [],
   "source": [
    "def remove_last_line():\n",
    "    s = text_field.get(\"1.0\", tk.END)\n",
    "    remove_from_end(len(s) - s.rfind('\\n', 0, len(s)-5))"
   ]
  },
  {
   "cell_type": "code",
   "execution_count": 10,
   "metadata": {},
   "outputs": [],
   "source": [
    "def add_delay():\n",
    "    global last_click\n",
    "    delay = get_delay()\n",
    "    \n",
    "    add_text(delay_text + str(delay))\n",
    "        \n",
    "    last_click = datetime.now()\n",
    "    return delay"
   ]
  },
  {
   "cell_type": "code",
   "execution_count": 11,
   "metadata": {},
   "outputs": [],
   "source": [
    "def record():\n",
    "    thread = threading.Thread(target=record_thread)\n",
    "    thread.start()\n",
    "\n",
    "def record_thread():\n",
    "    global is_recording\n",
    "    global last_click\n",
    "    global play_toggle\n",
    "    global hook_manager\n",
    "    global last_was_keyboard\n",
    "    global click_counter\n",
    "    global last_side\n",
    "    \n",
    "    play_toggle.config(state=\"disabled\")\n",
    "    \n",
    "    if is_recording:\n",
    "        is_recording = False\n",
    "        return\n",
    "    is_recording = True\n",
    "    \n",
    "    root.iconify()\n",
    "    text_field.configure(state=\"disabled\")\n",
    "    state_left = win32api.GetKeyState(0x01)  # Left button down = 0 or 1. Button up = -127 or -128\n",
    "    state_right = win32api.GetKeyState(0x02)  # Right button down = 0 or 1. Button up = -127 or -128\n",
    "    \n",
    "    last_click = datetime.now()\n",
    "    last_was_keyboard = False\n",
    "    \n",
    "    while is_recording:\n",
    "        a = win32api.GetKeyState(0x01)\n",
    "        b = win32api.GetKeyState(0x02)\n",
    "\n",
    "        if a != state_left or b != state_right:\n",
    "            pos = autogui.position()\n",
    "            text = \"\"\n",
    "                        \n",
    "            if a != state_left:  # Button state changed\n",
    "                state_left = a\n",
    "                current_side = \"left\"\n",
    "                if a < 0:\n",
    "                    text += left_click_text\n",
    "                else:\n",
    "                    continue\n",
    "                \n",
    "            if b != state_right:  # Button state changed\n",
    "                state_right = b\n",
    "                current_side = \"right\"\n",
    "                if b < 0:\n",
    "                    text += right_click_text\n",
    "                else:\n",
    "                    continue\n",
    "                    \n",
    "            click_delay = get_delay()\n",
    "            if click_delay < double_click_delay and last_side == current_side:\n",
    "                remove_last_line()\n",
    "                click_counter += 1\n",
    "            else:\n",
    "                last_side = current_side\n",
    "                click_counter = 1\n",
    "                \n",
    "            last_click = datetime.now()\n",
    "            text = str(click_counter) + \" \" + text + str(pos.x) + \" \" + str(pos.y) + \" \" + str(click_delay)\n",
    "            \n",
    "            add_text(text)\n",
    "    \n",
    "    text_field.configure(state=\"normal\")\n",
    "    play_toggle.config(state=\"normal\")"
   ]
  },
  {
   "cell_type": "code",
   "execution_count": 12,
   "metadata": {},
   "outputs": [],
   "source": [
    "def parse(_line):\n",
    "    line = _line.strip()\n",
    "    if not line:\n",
    "        return\n",
    "    \n",
    "    button, clicks, x, y, interval = parse_click(line)\n",
    "    if button != None:\n",
    "        pos = autogui.position()\n",
    "\n",
    "        for i in range(clicks):\n",
    "            if not is_running:\n",
    "                return\n",
    "            autogui.moveTo(x, y)\n",
    "            sleep(0.1)\n",
    "            autogui.click(button=button, x=x, y=y)\n",
    "            delay(interval)\n",
    "        #autogui.moveTo(pos.x, pos.y)\n",
    "        return\n",
    "    \n",
    "    if line.startswith(delay_text):\n",
    "        delay(line)\n",
    "    else:\n",
    "        parse_keyboard(line)"
   ]
  },
  {
   "cell_type": "code",
   "execution_count": 13,
   "metadata": {},
   "outputs": [],
   "source": [
    "def delay(line):\n",
    "    global is_running\n",
    "    \n",
    "    line = str(line).replace(delay_text, \"\") \n",
    "    delay = int(line)\n",
    "    \n",
    "    while delay > 1000 and is_running:\n",
    "        sleep(1)\n",
    "        delay -= 1000\n",
    "    \n",
    "    sleep(delay / 1000)  "
   ]
  },
  {
   "cell_type": "code",
   "execution_count": 14,
   "metadata": {},
   "outputs": [],
   "source": [
    "def parse_click(line):\n",
    "    s = line\n",
    "    if left_click_text in line:\n",
    "        s = line.replace(left_click_text, \"\")\n",
    "        side = \"left\"\n",
    "    elif right_click_text in line:\n",
    "        s = line.replace(right_click_text, \"\")\n",
    "        side = \"right\"\n",
    "    \n",
    "    if len(s) != len(line):\n",
    "        p = s.split(\" \")\n",
    "        return side, int(p[0]), int(p[1]), int(p[2]), int(p[3])\n",
    "    return None, None, None, None, None"
   ]
  },
  {
   "cell_type": "code",
   "execution_count": 15,
   "metadata": {},
   "outputs": [],
   "source": [
    "def parse_keyboard(line):\n",
    "    split = line.split(\" + \")\n",
    "    for key in split[:-1]:\n",
    "        autogui.keyDown(key)\n",
    "    \n",
    "    autogui.typewrite(split[-1])\n",
    "    for key in split[:-1]:\n",
    "        autogui.keyUp(key)"
   ]
  },
  {
   "cell_type": "code",
   "execution_count": 16,
   "metadata": {},
   "outputs": [],
   "source": [
    "def play():    \n",
    "    thread = threading.Thread(target=play_thread)\n",
    "    thread.start()\n",
    "\n",
    "def play_thread():\n",
    "    global is_running\n",
    "    global text_field\n",
    "    global record_toggle\n",
    "    record_toggle.config(state=\"disabled\")\n",
    "    \n",
    "    if is_running:\n",
    "        is_running = False\n",
    "        return\n",
    "    is_running = True\n",
    "    \n",
    "    root.iconify()\n",
    "    lines = get_text().splitlines()\n",
    "    \n",
    "    text_field.configure(state=\"disabled\")\n",
    "        \n",
    "    repetition_counter = 1\n",
    "    print(str(infinite_repetitions) + \" - \" + str(repetition_counter))\n",
    "    \n",
    "    while is_running and (infinite_repetitions.get() == 1 or repetition_counter <= repetitions.get()):\n",
    "        for line in lines:\n",
    "            if not is_running:\n",
    "                break\n",
    "            parse(line)  \n",
    "        repetition_counter += 1\n",
    "        \n",
    "    on_stop(False)\n",
    "    text_field.configure(state=\"normal\")  \n",
    "    record_toggle.config(state=\"normal\")"
   ]
  },
  {
   "cell_type": "code",
   "execution_count": 17,
   "metadata": {},
   "outputs": [],
   "source": [
    "def toggle_button(toggle, action=None):\n",
    "    if action != None:\n",
    "        action()\n",
    "        \n",
    "    if toggle.config('relief')[-1] == 'sunken':\n",
    "        toggle.config(relief=\"raised\")\n",
    "    else:\n",
    "        toggle.config(relief=\"sunken\")"
   ]
  },
  {
   "cell_type": "code",
   "execution_count": 18,
   "metadata": {},
   "outputs": [],
   "source": [
    "def create_toggle(text, side, action):\n",
    "    toggle = tk.Button(top_buttons, text=text, relief=\"raised\", command=lambda: toggle_button(toggle, action))\n",
    "    toggle.pack(side=side, pady=5, padx=5)\n",
    "    return toggle"
   ]
  },
  {
   "cell_type": "code",
   "execution_count": null,
   "metadata": {},
   "outputs": [],
   "source": [
    "def add_text_field():\n",
    "    global text_field\n",
    "    scrollbar = tk.Scrollbar(root)\n",
    "    text_field = tk.Text(root, width=10000)\n",
    "    scrollbar.pack(side=tk.RIGHT, fill=tk.Y)\n",
    "    text_field.pack(side=tk.LEFT, fill=tk.BOTH)\n",
    "    scrollbar.config(command=text_field.yview)\n",
    "    text_field.config(yscrollcommand=scrollbar.set)"
   ]
  },
  {
   "cell_type": "code",
   "execution_count": null,
   "metadata": {},
   "outputs": [],
   "source": [
    "def add_top_buttons():\n",
    "    global top_buttons\n",
    "    top_buttons = tk.Text(root, state=\"disabled\", cursor='arrow')    \n",
    "    top_buttons.pack(side=tk.TOP, fill=tk.BOTH)"
   ]
  },
  {
   "cell_type": "code",
   "execution_count": null,
   "metadata": {},
   "outputs": [],
   "source": [
    "def add_int_entry(side):\n",
    "    int_var = tk.IntVar()\n",
    "    int_entry = tk.Entry(top_buttons, width=5, textvariable=int_var)\n",
    "    int_entry.pack(side=side, pady=5, padx=5)\n",
    "    return int_var, int_entry"
   ]
  },
  {
   "cell_type": "code",
   "execution_count": null,
   "metadata": {},
   "outputs": [],
   "source": [
    "def add_checkbox(text, side, action):\n",
    "    int_var = tk.IntVar()\n",
    "    int_var.set(0)\n",
    "    checkbox = tk.Checkbutton(top_buttons, text=text, variable=int_var, command=action)\n",
    "    checkbox.pack(side=side, pady=5, padx=5)\n",
    "    return int_var, checkbox"
   ]
  },
  {
   "cell_type": "code",
   "execution_count": null,
   "metadata": {},
   "outputs": [],
   "source": [
    "def add_menu():\n",
    "    # create a toplevel menu\n",
    "    global menu_bar\n",
    "    global file_menu\n",
    "    global edit_menu\n",
    "    global help_menu\n",
    "    \n",
    "    menu_bar = tk.Menu(root)\n",
    "\n",
    "    # create a pulldown menu, and add it to the menu bar\n",
    "    file_menu = tk.Menu(menu_bar, tearoff=0)\n",
    "    file_menu.add_command(label=\"Open\", command=on_open)\n",
    "    file_menu.add_command(label=\"Save\", command=on_save)\n",
    "    file_menu.add_separator()\n",
    "    file_menu.add_command(label=\"Exit\", command=on_closing)\n",
    "    menu_bar.add_cascade(label=\"File\", menu=file_menu)\n",
    "\n",
    "    # create more pulldown menus\n",
    "    edit_menu = tk.Menu(menu_bar, tearoff=0)\n",
    "    edit_menu.add_command(label=\"Cut\", command=on_cut)\n",
    "    edit_menu.add_command(label=\"Copy\", command=on_copy)\n",
    "    edit_menu.add_command(label=\"Paste\", command=on_paste)\n",
    "    menu_bar.add_cascade(label=\"Edit\", menu=edit_menu)\n",
    "\n",
    "    help_menu = tk.Menu(menu_bar, tearoff=0)\n",
    "    help_menu.add_command(label=\"About\", command=on_about)\n",
    "    menu_bar.add_cascade(label=\"Help\", menu=help_menu)\n",
    "\n",
    "    # display the menu\n",
    "    root.config(menu=menu_bar)"
   ]
  },
  {
   "cell_type": "code",
   "execution_count": null,
   "metadata": {},
   "outputs": [],
   "source": [
    "def on_open():\n",
    "    on_stop(False)\n",
    "    root.withdraw()\n",
    "    file_path = filedialog.askopenfilename(initialdir=os.getcwd(),title = \"Select file\",filetypes = ((\"AutoClicker files\",\"*\" + file_extension),))\n",
    "    root.deiconify()\n",
    "    print(file_path)\n",
    "    \n",
    "    if len(file_path) == 0:\n",
    "        return False\n",
    "        \n",
    "    file = open(file_path, \"r\")\n",
    "    add_text(file.read())\n",
    "    file.close()\n",
    "    on_stop(False)\n",
    "    return True"
   ]
  },
  {
   "cell_type": "code",
   "execution_count": null,
   "metadata": {},
   "outputs": [],
   "source": [
    "def on_save():\n",
    "    on_stop(False)\n",
    "    root.withdraw()\n",
    "    file_path = filedialog.asksaveasfilename(initialdir=os.getcwd(),title = \"Select file\",filetypes = ((\"AutoClicker files\",\"*\" + file_extension),))\n",
    "    root.deiconify()\n",
    "    print(file_path)\n",
    "    \n",
    "    if len(file_path) == 0:\n",
    "        return False\n",
    "    \n",
    "    if not file_path.endswith(file_extension):\n",
    "        file_path += file_extension\n",
    "    \n",
    "    file = open(file_path, \"w+\")\n",
    "    file.write(get_text())\n",
    "    file.close()\n",
    "    on_stop(False)\n",
    "    return True"
   ]
  },
  {
   "cell_type": "code",
   "execution_count": null,
   "metadata": {},
   "outputs": [],
   "source": [
    "def on_cut():\n",
    "    pass"
   ]
  },
  {
   "cell_type": "code",
   "execution_count": null,
   "metadata": {},
   "outputs": [],
   "source": [
    "def on_copy():\n",
    "    pass"
   ]
  },
  {
   "cell_type": "code",
   "execution_count": null,
   "metadata": {},
   "outputs": [],
   "source": [
    "def on_paste():\n",
    "    pass"
   ]
  },
  {
   "cell_type": "code",
   "execution_count": null,
   "metadata": {},
   "outputs": [],
   "source": [
    "def on_about():\n",
    "    pass"
   ]
  },
  {
   "cell_type": "code",
   "execution_count": null,
   "metadata": {},
   "outputs": [],
   "source": [
    "def on_infinite_check():\n",
    "    global repetition_entry\n",
    "    global is_filedialog_open\n",
    "    \n",
    "    is_filedialog_open = True\n",
    "    state = \"normal\"\n",
    "    if infinite_repetitions.get() == 1:\n",
    "        state=\"disable\"\n",
    "    repetition_entry.config(state=state)\n",
    "    is_filedialog_open = False"
   ]
  },
  {
   "cell_type": "code",
   "execution_count": null,
   "metadata": {},
   "outputs": [],
   "source": [
    "def on_closing():\n",
    "    global is_running\n",
    "    global is_recording\n",
    "    is_recording = False\n",
    "    is_running = False    \n",
    "    #pythoncom.PumpWaitingMessages()   \n",
    "    root.destroy()"
   ]
  },
  {
   "cell_type": "code",
   "execution_count": null,
   "metadata": {},
   "outputs": [],
   "source": [
    "def on_stop(remove):\n",
    "    global is_running\n",
    "    global play_toggle\n",
    "    global is_recording\n",
    "    global record_toggle\n",
    "    global text_field\n",
    "    \n",
    "    is_running = False\n",
    "    is_recording = False\n",
    "     \n",
    "    if remove:\n",
    "        remove_last_line()\n",
    "        \n",
    "    for toggle in play_toggle, record_toggle:\n",
    "        if toggle.config('relief')[-1] == 'sunken':\n",
    "            toggle.config(relief=\"raised\")\n",
    "            \n",
    "    text_field.configure(state=\"normal\")\n",
    "    root.deiconify()"
   ]
  },
  {
   "cell_type": "code",
   "execution_count": null,
   "metadata": {},
   "outputs": [],
   "source": [
    "def on_keyboard_up_event(event):\n",
    "    global is_recording\n",
    "    global is_running\n",
    "    global is_shift\n",
    "    global is_ctrl\n",
    "    global is_alt\n",
    "    global is_filedialog_open\n",
    "    \n",
    "    if is_filedialog_open:\n",
    "        return False\n",
    "    \n",
    "    \n",
    "    if is_recording or is_running: \n",
    "        key = str(event.GetKey())\n",
    "        \n",
    "        if \"control\" in key:\n",
    "            is_ctrl = False\n",
    "        elif \"menu\" in key:\n",
    "            is_alt = False\n",
    "        elif \"shift\" in key:\n",
    "            is_shift = False\n",
    "            \n",
    "    return True"
   ]
  },
  {
   "cell_type": "code",
   "execution_count": null,
   "metadata": {},
   "outputs": [],
   "source": [
    "def on_keyboard_down_event(event):\n",
    "    global is_recording\n",
    "    global is_running\n",
    "    global text_field\n",
    "    global is_shift\n",
    "    global is_ctrl\n",
    "    global is_alt\n",
    "    global is_filedialog_open\n",
    "    \n",
    "    if is_filedialog_open:\n",
    "        return False\n",
    "\n",
    "    if is_recording or is_running:\n",
    "        try:\n",
    "            key = str(event.GetKey())\n",
    "            if not is_running:\n",
    "\n",
    "                text = \"\"\n",
    "                if is_ctrl:\n",
    "                    text += ctrl\n",
    "                if is_alt:\n",
    "                    text += alt\n",
    "                if is_shift:\n",
    "                    text += shift\n",
    "\n",
    "                if \"control\" in key:\n",
    "                    is_ctrl = True\n",
    "                    return True\n",
    "                elif \"menu\" in key:\n",
    "                    is_alt = True\n",
    "                    return True\n",
    "                elif \"shift\" in key:\n",
    "                    is_shift = True\n",
    "                    return True\n",
    "\n",
    "                click_delay = add_delay()\n",
    "                add_text(text.lower() + key.lower())\n",
    "\n",
    "            if key == \"F7\":\n",
    "                on_stop(False)\n",
    "        except:\n",
    "            print(\"exception\")\n",
    "    return True"
   ]
  },
  {
   "cell_type": "code",
   "execution_count": null,
   "metadata": {},
   "outputs": [
    {
     "name": "stdout",
     "output_type": "stream",
     "text": [
      "PY_VAR0 - 1\n",
      "PY_VAR0 - 1\n",
      "PY_VAR0 - 1\n",
      "PY_VAR0 - 1\n",
      "PY_VAR0 - 1\n",
      "PY_VAR0 - 1\n",
      "PY_VAR0 - 1\n",
      "PY_VAR0 - 1\n",
      "PY_VAR0 - 1\n",
      "PY_VAR0 - 1\n",
      "PY_VAR0 - 1\n",
      "PY_VAR0 - 1\n",
      "PY_VAR0 - 1\n",
      "PY_VAR0 - 1\n",
      "PY_VAR0 - 1\n",
      "PY_VAR0 - 1\n",
      "PY_VAR0 - 1\n",
      "C:/Users/ga58lum/Documents/RS-Bots/AutoClicker/falador_mining\n"
     ]
    }
   ],
   "source": [
    "root = tk.Tk()\n",
    "root.title(\"Auto Clicker\")\n",
    "\n",
    "add_top_buttons()\n",
    "add_text_field()\n",
    "add_menu()\n",
    "\n",
    "record_toggle = create_toggle(\"Record\", tk.LEFT, record)\n",
    "play_toggle = create_toggle(\"Play\", tk.LEFT, play)\n",
    "infinite_repetitions, infinite_checkbox = add_checkbox(\"Infinite\", tk.RIGHT, on_infinite_check)\n",
    "repetitions, repetition_entry = add_int_entry(tk.RIGHT)\n",
    "repetitions.set(1)\n",
    "\n",
    "hook_manager = pyHook.HookManager()\n",
    "hook_manager.KeyDown = on_keyboard_down_event\n",
    "hook_manager.KeyUp = on_keyboard_up_event\n",
    "hook_manager.HookKeyboard()\n",
    "    \n",
    "root.geometry(\"500x500\")\n",
    "root.protocol(\"WM_DELETE_WINDOW\", on_closing)\n",
    "root.mainloop()"
   ]
  },
  {
   "cell_type": "code",
   "execution_count": null,
   "metadata": {},
   "outputs": [],
   "source": []
  }
 ],
 "metadata": {
  "kernelspec": {
   "display_name": "Python 3",
   "language": "python",
   "name": "python3"
  },
  "language_info": {
   "codemirror_mode": {
    "name": "ipython",
    "version": 3
   },
   "file_extension": ".py",
   "mimetype": "text/x-python",
   "name": "python",
   "nbconvert_exporter": "python",
   "pygments_lexer": "ipython3",
   "version": "3.7.1"
  }
 },
 "nbformat": 4,
 "nbformat_minor": 2
}
