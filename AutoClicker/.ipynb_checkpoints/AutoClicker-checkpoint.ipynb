{
 "cells": [
  {
   "cell_type": "code",
   "execution_count": 453,
   "metadata": {},
   "outputs": [],
   "source": [
    "# Code to check if left or right mouse buttons were pressed\n",
    "import win32api\n",
    "from time import sleep\n",
    "import pyautogui as mouse\n",
    "#import tkinter as tk\n",
    "from tkinter import *\n",
    "from tkinter import messagebox\n",
    "import threading\n",
    "from datetime import datetime\n",
    "import keyboard  # using module keyboard\n",
    "import pythoncom, pyHook"
   ]
  },
  {
   "cell_type": "code",
   "execution_count": 454,
   "metadata": {},
   "outputs": [],
   "source": [
    "left_click_text = \"Left click \"\n",
    "right_click_text = \"Right click \"\n",
    "double_prefix = \"Double \"\n",
    "delay_text = \"Delay \"\n",
    "double_click_delay = 200"
   ]
  },
  {
   "cell_type": "code",
   "execution_count": 455,
   "metadata": {},
   "outputs": [],
   "source": [
    "record_toggle = 0\n",
    "play_toggle = 0\n",
    "\n",
    "is_shift = False\n",
    "is_ctrl = False\n",
    "is_alt = False\n",
    "\n",
    "is_recording = False\n",
    "is_running = False\n",
    "last_click = datetime.now()"
   ]
  },
  {
   "cell_type": "code",
   "execution_count": 456,
   "metadata": {},
   "outputs": [],
   "source": [
    "def getText():\n",
    "    textField.configure(state=\"normal\")\n",
    "    s = textField.get(\"1.0\", END)\n",
    "    textField.configure(state=\"disabled\")    \n",
    "    return s"
   ]
  },
  {
   "cell_type": "code",
   "execution_count": 457,
   "metadata": {},
   "outputs": [],
   "source": [
    "def addText(text):\n",
    "    textField.configure(state=\"normal\")\n",
    "    textField.insert(END, text + '\\n')\n",
    "    textField.configure(state=\"disabled\")    "
   ]
  },
  {
   "cell_type": "code",
   "execution_count": 458,
   "metadata": {},
   "outputs": [],
   "source": [
    "def deleteText():\n",
    "    textField.configure(state=\"normal\")\n",
    "    textField.delete(\"1.0\", END)\n",
    "    textField.configure(state=\"disabled\")    "
   ]
  },
  {
   "cell_type": "code",
   "execution_count": 459,
   "metadata": {},
   "outputs": [],
   "source": [
    "def getDelay():\n",
    "    global last_click\n",
    "    return int((datetime.now() - last_click).total_seconds() * 1000)"
   ]
  },
  {
   "cell_type": "code",
   "execution_count": 460,
   "metadata": {},
   "outputs": [],
   "source": [
    "def removeFromEnd(count):\n",
    "    s = getText()\n",
    "    deleteText()\n",
    "    addText(s[:len(s) - count])"
   ]
  },
  {
   "cell_type": "code",
   "execution_count": 461,
   "metadata": {},
   "outputs": [],
   "source": [
    "def removeLastLine():\n",
    "    s = textField.get(\"1.0\", END)\n",
    "    removeFromEnd(len(s) - s.rfind('\\n', 0, len(s)-5))"
   ]
  },
  {
   "cell_type": "code",
   "execution_count": 462,
   "metadata": {},
   "outputs": [],
   "source": [
    "def addDelay():\n",
    "    global last_click\n",
    "    delay = getDelay()\n",
    "    \n",
    "    addText(delay_text + str(delay))\n",
    "        \n",
    "    last_click = datetime.now()\n",
    "    return delay"
   ]
  },
  {
   "cell_type": "code",
   "execution_count": 463,
   "metadata": {},
   "outputs": [],
   "source": [
    "def record(): \n",
    "    global is_recording\n",
    "    if is_recording:\n",
    "        is_recording = False\n",
    "        return\n",
    "    \n",
    "    thread = threading.Thread(target=record_thread)\n",
    "    thread.start()\n",
    "\n",
    "def record_thread():\n",
    "    global is_recording\n",
    "    global last_click\n",
    "    is_recording = True\n",
    "    \n",
    "\n",
    "    textField.configure(state=\"disabled\")\n",
    "    state_left = win32api.GetKeyState(0x01)  # Left button down = 0 or 1. Button up = -127 or -128\n",
    "    state_right = win32api.GetKeyState(0x02)  # Right button down = 0 or 1. Button up = -127 or -128\n",
    "    \n",
    "    last_click = datetime.now()\n",
    "    \n",
    "    while is_recording:\n",
    "        a = win32api.GetKeyState(0x01)\n",
    "        b = win32api.GetKeyState(0x02)\n",
    "\n",
    "        if a != state_left or b != state_right:\n",
    "            pos = mouse.position()\n",
    "            text = \"\"\n",
    "                        \n",
    "            if a != state_left:  # Button state changed\n",
    "                state_left = a\n",
    "                if a < 0:\n",
    "                    text += left_click_text\n",
    "                else:\n",
    "                    continue\n",
    "                \n",
    "            if b != state_right:  # Button state changed\n",
    "                state_right = b\n",
    "                if b < 0:\n",
    "                    text += right_click_text\n",
    "                else:\n",
    "                    continue\n",
    "                    \n",
    "            click_delay = addDelay()\n",
    "            if click_delay < double_click_delay:\n",
    "                removeLastLine()\n",
    "                removeLastLine()\n",
    "                text = double_prefix + text\n",
    "                   \n",
    "            text += str(pos.x) + \", \" + str(pos.y)\n",
    "            \n",
    "            addText(text)\n",
    "            \n",
    "    removeLastLine()\n",
    "    removeLastLine()\n",
    "    \n",
    "    textField.configure(state=\"normal\")"
   ]
  },
  {
   "cell_type": "code",
   "execution_count": 464,
   "metadata": {},
   "outputs": [],
   "source": [
    "def parse(_line):\n",
    "    line = _line.strip()\n",
    "    clicks = 1\n",
    "    if line.startswith(double_prefix):\n",
    "        clicks = 2\n",
    "        line = line.replace(double_prefix, \"\")\n",
    "    \n",
    "    leftRight = getLeftRight(line)\n",
    "    if leftRight != None:\n",
    "        mouse.click(button=leftRight[0], clicks=clicks, x=leftRight[1], y=leftRight[2])\n",
    "        return\n",
    "    elif line.startswith(delay_text):\n",
    "        line = line.replace(delay_text, \"\")\n",
    "        delay = int(line) / 1000\n",
    "        sleep(delay)      "
   ]
  },
  {
   "cell_type": "code",
   "execution_count": 465,
   "metadata": {},
   "outputs": [],
   "source": [
    "def getLeftRight(line):\n",
    "    s = line\n",
    "    if line.startswith(left_click_text):\n",
    "        s = line[len(left_click_text):len(line)]\n",
    "        side = \"left\"\n",
    "    elif line.startswith(right_click_text):\n",
    "        s = line[len(right_click_text):len(line)]\n",
    "        side = \"right\"\n",
    "    \n",
    "    if len(s) != len(line):\n",
    "        p = s.split(\", \")\n",
    "        return (side, int(p[0]), int(p[1]))\n",
    "    return None"
   ]
  },
  {
   "cell_type": "code",
   "execution_count": 466,
   "metadata": {},
   "outputs": [],
   "source": [
    "def play():\n",
    "    global is_running\n",
    "    if is_running:\n",
    "        is_running = False\n",
    "        return\n",
    "    \n",
    "    thread = threading.Thread(target=play_thread)\n",
    "    thread.start()\n",
    "\n",
    "def play_thread():\n",
    "    global is_running\n",
    "    is_running = True\n",
    "    lines = textField.get(\"1.0\", END).splitlines()\n",
    "        \n",
    "    while is_running:\n",
    "        for line in lines:\n",
    "            if not is_running:\n",
    "                return\n",
    "            parse(line)    "
   ]
  },
  {
   "cell_type": "code",
   "execution_count": 467,
   "metadata": {},
   "outputs": [],
   "source": [
    "def toggleButton(toggle, action=None):\n",
    "    if action != None:\n",
    "        action()\n",
    "        \n",
    "    if toggle.config('relief')[-1] == 'sunken':\n",
    "        toggle.config(relief=\"raised\")\n",
    "    else:\n",
    "        toggle.config(relief=\"sunken\")"
   ]
  },
  {
   "cell_type": "code",
   "execution_count": 468,
   "metadata": {},
   "outputs": [],
   "source": [
    "def createToggle(text, side, action):\n",
    "    toggle = Button(topButtons, text=text, relief=\"raised\", command=lambda: toggleButton(toggle, action))\n",
    "    toggle.pack(side=side, pady=5, padx=5)\n",
    "    return toggle"
   ]
  },
  {
   "cell_type": "code",
   "execution_count": 469,
   "metadata": {},
   "outputs": [],
   "source": [
    "def addTextField():\n",
    "    global textField\n",
    "    scrollbar = Scrollbar(root)\n",
    "    textField = Text(root, height=4, width=10000)\n",
    "    scrollbar.pack(side=RIGHT, fill=Y)\n",
    "    textField.pack(side=LEFT, fill=Y)\n",
    "    scrollbar.config(command=textField.yview)\n",
    "    textField.config(yscrollcommand=scrollbar.set)  \n",
    "    #textField.bind('<F7>', onStopHotkey)"
   ]
  },
  {
   "cell_type": "code",
   "execution_count": 470,
   "metadata": {},
   "outputs": [],
   "source": [
    "def addTopButtons():\n",
    "    global topButtons\n",
    "    topButtons = Frame(root)    \n",
    "    topButtons.pack()"
   ]
  },
  {
   "cell_type": "code",
   "execution_count": 471,
   "metadata": {},
   "outputs": [],
   "source": [
    "def on_closing():\n",
    "    global is_running\n",
    "    global is_recording\n",
    "    is_recording = False\n",
    "    is_running = False    \n",
    "    pythoncom.PumpWaitingMessages()   \n",
    "    root.destroy()"
   ]
  },
  {
   "cell_type": "code",
   "execution_count": 472,
   "metadata": {},
   "outputs": [],
   "source": [
    "def onStopHotkey(event):\n",
    "    global is_running\n",
    "    global play_toggle\n",
    "    global is_recording\n",
    "    global record_toggle\n",
    "    \n",
    "    is_running = False\n",
    "    is_recording = False\n",
    "     \n",
    "    for toggle in play_toggle, record_toggle:\n",
    "        if toggle.config('relief')[-1] == 'sunken':\n",
    "            toggle.config(relief=\"raised\")"
   ]
  },
  {
   "cell_type": "code",
   "execution_count": 473,
   "metadata": {},
   "outputs": [],
   "source": [
    "def onKeyboardUpEvent(event):\n",
    "    global is_shift\n",
    "    global is_ctrl\n",
    "    global is_alt\n",
    "    \n",
    "    if is_recording or is_running: \n",
    "        key = str(event.GetKey())\n",
    "        \n",
    "        if \"control\" in key:\n",
    "            is_ctrl = False\n",
    "        elif \"menu\" in key:\n",
    "            is_alt = False\n",
    "        elif \"shift\" in key:\n",
    "            is_shift = False\n",
    "            \n",
    "    return True"
   ]
  },
  {
   "cell_type": "code",
   "execution_count": 474,
   "metadata": {},
   "outputs": [],
   "source": [
    "def onKeyboardDownEvent(event):\n",
    "    global is_recording\n",
    "    global textField\n",
    "    global is_shift\n",
    "    global is_ctrl\n",
    "    global is_alt\n",
    "\n",
    "    if is_recording or is_running:\n",
    "        \n",
    "        key = str(event.GetKey())\n",
    "        \n",
    "        text = \"\"\n",
    "        if is_ctrl:\n",
    "            text += \"strg + \"\n",
    "        if is_alt:\n",
    "            text += \"alt + \"\n",
    "        if is_shift:\n",
    "            text += \"shift + \"\n",
    "        \n",
    "        \n",
    "        if \"control\" in key:\n",
    "            is_ctrl = True\n",
    "            return True\n",
    "        elif \"menu\" in key:\n",
    "            is_alt = True\n",
    "            return True\n",
    "        elif \"shift\" in key:\n",
    "            is_shift = True\n",
    "            return True\n",
    "        \n",
    "        click_delay = addDelay()\n",
    "        addText(text + key)\n",
    "        \n",
    "        if str(event.GetKey()) == \"F7\":\n",
    "            onStopHotkey(event)\n",
    "    return True"
   ]
  },
  {
   "cell_type": "code",
   "execution_count": 475,
   "metadata": {},
   "outputs": [
    {
     "name": "stdout",
     "output_type": "stream",
     "text": [
      "Toggle Play\n",
      "Toggle Record\n",
      "Finished toggling\n",
      "Toggle Play\n",
      "Toggle Record\n",
      "Finished toggling\n"
     ]
    }
   ],
   "source": [
    "root = Tk()\n",
    "root.title(\"Auto Clicker\")\n",
    "\n",
    "addTopButtons()\n",
    "addTextField()\n",
    "\n",
    "record_toggle = createToggle(\"Record\", LEFT, record)\n",
    "play_toggle = createToggle(\"Play\", RIGHT, play)\n",
    "\n",
    "hm = pyHook.HookManager()\n",
    "hm.KeyDown = onKeyboardDownEvent\n",
    "hm.KeyUp = onKeyboardUpEvent\n",
    "hm.HookKeyboard()\n",
    "\n",
    "root.geometry(\"500x500\")\n",
    "root.protocol(\"WM_DELETE_WINDOW\", on_closing)\n",
    "root.mainloop()"
   ]
  },
  {
   "cell_type": "code",
   "execution_count": null,
   "metadata": {},
   "outputs": [],
   "source": []
  }
 ],
 "metadata": {
  "kernelspec": {
   "display_name": "Python 3",
   "language": "python",
   "name": "python3"
  },
  "language_info": {
   "codemirror_mode": {
    "name": "ipython",
    "version": 3
   },
   "file_extension": ".py",
   "mimetype": "text/x-python",
   "name": "python",
   "nbconvert_exporter": "python",
   "pygments_lexer": "ipython3",
   "version": "3.7.1"
  }
 },
 "nbformat": 4,
 "nbformat_minor": 2
}
