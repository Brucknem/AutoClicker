{
 "cells": [
  {
   "cell_type": "code",
   "execution_count": 298,
   "metadata": {},
   "outputs": [],
   "source": [
    "# Code to check if left or right mouse buttons were pressed\n",
    "import win32api\n",
    "from time import sleep\n",
    "import pyautogui as mouse\n",
    "#import tkinter as tk\n",
    "import tkinter as tk\n",
    "from tkinter import filedialog\n",
    "import threading\n",
    "from datetime import datetime\n",
    "import keyboard  # using module keyboard\n",
    "import pythoncom, pyHook\n",
    "import os "
   ]
  },
  {
   "cell_type": "code",
   "execution_count": 299,
   "metadata": {},
   "outputs": [],
   "source": [
    "left_click_text = \"Left click \"\n",
    "right_click_text = \"Right click \"\n",
    "double_prefix = \"Double \"\n",
    "delay_text = \"Delay \"\n",
    "double_click_delay = 200\n",
    "file_extension = \".autoclicker\""
   ]
  },
  {
   "cell_type": "code",
   "execution_count": 300,
   "metadata": {},
   "outputs": [],
   "source": [
    "record_toggle = 0\n",
    "play_toggle = 0\n",
    "repetition_entry = 0\n",
    "infinite_checkbox = 0\n",
    "\n",
    "is_shift = False\n",
    "is_ctrl = False\n",
    "is_alt = False\n",
    "\n",
    "is_recording = False\n",
    "is_running = False\n",
    "\n",
    "last_click = datetime.now()\n",
    "\n",
    "repetitions = 0\n",
    "infinite_repetitions = 0\n",
    "\n",
    "is_filedialog_open = False"
   ]
  },
  {
   "cell_type": "code",
   "execution_count": 301,
   "metadata": {},
   "outputs": [],
   "source": [
    "def get_text():\n",
    "    text_field.configure(state=\"normal\")\n",
    "    s = text_field.get(\"1.0\", tk.END)\n",
    "    text_field.configure(state=\"disabled\")    \n",
    "    return s"
   ]
  },
  {
   "cell_type": "code",
   "execution_count": 302,
   "metadata": {},
   "outputs": [],
   "source": [
    "def add_text(text):\n",
    "    text_field.configure(state=\"normal\")\n",
    "    text_field.insert(tk.END, text + '\\n')\n",
    "    text_field.configure(state=\"disabled\")    "
   ]
  },
  {
   "cell_type": "code",
   "execution_count": 303,
   "metadata": {},
   "outputs": [],
   "source": [
    "def delete_text():\n",
    "    text_field.configure(state=\"normal\")\n",
    "    text_field.delete(\"1.0\", tk.END)\n",
    "    text_field.configure(state=\"disabled\")    "
   ]
  },
  {
   "cell_type": "code",
   "execution_count": 304,
   "metadata": {},
   "outputs": [],
   "source": [
    "def get_delay():\n",
    "    global last_click\n",
    "    return int((datetime.now() - last_click).total_seconds() * 1000)"
   ]
  },
  {
   "cell_type": "code",
   "execution_count": 305,
   "metadata": {},
   "outputs": [],
   "source": [
    "def remove_from_end(count):\n",
    "    s = get_text()\n",
    "    delete_text()\n",
    "    add_text(s[:len(s) - count])"
   ]
  },
  {
   "cell_type": "code",
   "execution_count": 306,
   "metadata": {},
   "outputs": [],
   "source": [
    "def remove_last_line():\n",
    "    s = text_field.get(\"1.0\", tk.END)\n",
    "    remove_from_end(len(s) - s.rfind('\\n', 0, len(s)-5))"
   ]
  },
  {
   "cell_type": "code",
   "execution_count": 307,
   "metadata": {},
   "outputs": [],
   "source": [
    "def add_delay():\n",
    "    global last_click\n",
    "    delay = get_delay()\n",
    "    \n",
    "    add_text(delay_text + str(delay))\n",
    "        \n",
    "    last_click = datetime.now()\n",
    "    return delay"
   ]
  },
  {
   "cell_type": "code",
   "execution_count": 308,
   "metadata": {},
   "outputs": [],
   "source": [
    "def record():     \n",
    "    thread = threading.Thread(target=record_thread)\n",
    "    thread.start()\n",
    "\n",
    "def record_thread():\n",
    "    global is_recording\n",
    "    global last_click\n",
    "    global play_toggle\n",
    "    global hook_manager\n",
    "    \n",
    "    play_toggle.config(state=\"disabled\")\n",
    "    \n",
    "    if is_recording:\n",
    "        is_recording = False\n",
    "        return\n",
    "    is_recording = True\n",
    "    \n",
    "    text_field.configure(state=\"disabled\")\n",
    "    state_left = win32api.GetKeyState(0x01)  # Left button down = 0 or 1. Button up = -127 or -128\n",
    "    state_right = win32api.GetKeyState(0x02)  # Right button down = 0 or 1. Button up = -127 or -128\n",
    "    \n",
    "    last_click = datetime.now()\n",
    "    \n",
    "    while is_recording:\n",
    "        a = win32api.GetKeyState(0x01)\n",
    "        b = win32api.GetKeyState(0x02)\n",
    "\n",
    "        if a != state_left or b != state_right:\n",
    "            pos = mouse.position()\n",
    "            text = \"\"\n",
    "                        \n",
    "            if a != state_left:  # Button state changed\n",
    "                state_left = a\n",
    "                if a < 0:\n",
    "                    text += left_click_text\n",
    "                else:\n",
    "                    continue\n",
    "                \n",
    "            if b != state_right:  # Button state changed\n",
    "                state_right = b\n",
    "                if b < 0:\n",
    "                    text += right_click_text\n",
    "                else:\n",
    "                    continue\n",
    "                    \n",
    "            click_delay = add_delay()\n",
    "            if click_delay < double_click_delay:\n",
    "                remove_last_line()\n",
    "                remove_last_line()\n",
    "                text = double_prefix + text\n",
    "                   \n",
    "            text += str(pos.x) + \", \" + str(pos.y)\n",
    "            \n",
    "            add_text(text)\n",
    "            \n",
    "    remove_last_line()\n",
    "    remove_last_line()\n",
    "    \n",
    "    text_field.configure(state=\"normal\")\n",
    "    play_toggle.config(state=\"normal\")"
   ]
  },
  {
   "cell_type": "code",
   "execution_count": 309,
   "metadata": {},
   "outputs": [],
   "source": [
    "def parse(_line):\n",
    "    line = _line.strip()\n",
    "    clicks = 1\n",
    "    if line.startswith(double_prefix):\n",
    "        clicks = 2\n",
    "        line = line.replace(double_prefix, \"\")\n",
    "    \n",
    "    click = parse_click(line)\n",
    "    if click != None:\n",
    "        mouse.click(button=click[0], clicks=clicks, x=click[1], y=click[2])\n",
    "        return\n",
    "    elif line.startswith(delay_text):\n",
    "        line = line.replace(delay_text, \"\")\n",
    "        delay = int(line) / 1000\n",
    "        sleep(delay)      "
   ]
  },
  {
   "cell_type": "code",
   "execution_count": 310,
   "metadata": {},
   "outputs": [],
   "source": [
    "def parse_click(line):\n",
    "    s = line\n",
    "    if line.startswith(left_click_text):\n",
    "        s = line[len(left_click_text):len(line)]\n",
    "        side = \"left\"\n",
    "    elif line.startswith(right_click_text):\n",
    "        s = line[len(right_click_text):len(line)]\n",
    "        side = \"right\"\n",
    "    \n",
    "    if len(s) != len(line):\n",
    "        p = s.split(\", \")\n",
    "        return (side, int(p[0]), int(p[1]))\n",
    "    return None"
   ]
  },
  {
   "cell_type": "code",
   "execution_count": 311,
   "metadata": {},
   "outputs": [],
   "source": [
    "def play():    \n",
    "    thread = threading.Thread(target=play_thread)\n",
    "    thread.start()\n",
    "\n",
    "def play_thread():\n",
    "    global is_running\n",
    "    global text_field\n",
    "    global record_toggle\n",
    "    record_toggle.config(state=\"disabled\")\n",
    "    \n",
    "    if is_running:\n",
    "        is_running = False\n",
    "        return\n",
    "    is_running = True\n",
    "    \n",
    "    lines = get_text().splitlines()\n",
    "    \n",
    "    text_field.configure(state=\"disabled\")\n",
    "        \n",
    "    repetition_counter = 1\n",
    "    print(str(infinite_repetitions) + \" - \" + str(repetition_counter))\n",
    "    \n",
    "    while is_running and (infinite_repetitions.get() == 1 or repetition_counter <= repetitions.get()):\n",
    "        for line in lines:\n",
    "            if not is_running:\n",
    "                break\n",
    "            parse(line)  \n",
    "        repetition_counter += 1\n",
    "        \n",
    "    on_stop(False)\n",
    "    text_field.configure(state=\"normal\")  \n",
    "    record_toggle.config(state=\"normal\")"
   ]
  },
  {
   "cell_type": "code",
   "execution_count": 312,
   "metadata": {},
   "outputs": [],
   "source": [
    "def toggle_button(toggle, action=None):\n",
    "    if action != None:\n",
    "        action()\n",
    "        \n",
    "    if toggle.config('relief')[-1] == 'sunken':\n",
    "        toggle.config(relief=\"raised\")\n",
    "    else:\n",
    "        toggle.config(relief=\"sunken\")"
   ]
  },
  {
   "cell_type": "code",
   "execution_count": 313,
   "metadata": {},
   "outputs": [],
   "source": [
    "def create_toggle(text, side, action):\n",
    "    toggle = tk.Button(top_buttons, text=text, relief=\"raised\", command=lambda: toggle_button(toggle, action))\n",
    "    toggle.pack(side=side, pady=5, padx=5)\n",
    "    return toggle"
   ]
  },
  {
   "cell_type": "code",
   "execution_count": 314,
   "metadata": {},
   "outputs": [],
   "source": [
    "def add_text_field():\n",
    "    global text_field\n",
    "    scrollbar = tk.Scrollbar(root)\n",
    "    text_field = tk.Text(root, height=4)\n",
    "    scrollbar.pack(side=tk.RIGHT, fill=tk.Y)\n",
    "    text_field.pack(side=tk.LEFT, fill=tk.BOTH)\n",
    "    scrollbar.config(command=text_field.yview)\n",
    "    text_field.config(yscrollcommand=scrollbar.set)"
   ]
  },
  {
   "cell_type": "code",
   "execution_count": 315,
   "metadata": {},
   "outputs": [],
   "source": [
    "def add_top_buttons():\n",
    "    global top_buttons\n",
    "    top_buttons = tk.Text(root, state=\"disabled\", cursor='arrow')    \n",
    "    top_buttons.pack(side=tk.TOP, fill=tk.BOTH)"
   ]
  },
  {
   "cell_type": "code",
   "execution_count": 316,
   "metadata": {},
   "outputs": [],
   "source": [
    "def add_int_entry(side):\n",
    "    int_var = tk.IntVar()\n",
    "    int_entry = tk.Entry(top_buttons, width=5, textvariable=int_var)\n",
    "    int_entry.pack(side=side, pady=5, padx=5)\n",
    "    return int_var, int_entry"
   ]
  },
  {
   "cell_type": "code",
   "execution_count": 317,
   "metadata": {},
   "outputs": [],
   "source": [
    "def add_checkbox(text, side, action):\n",
    "    int_var = tk.IntVar()\n",
    "    int_var.set(0)\n",
    "    checkbox = tk.Checkbutton(top_buttons, text=text, variable=int_var, command=action)\n",
    "    checkbox.pack(side=side, pady=5, padx=5)\n",
    "    return int_var, checkbox"
   ]
  },
  {
   "cell_type": "code",
   "execution_count": 318,
   "metadata": {},
   "outputs": [],
   "source": [
    "def add_menu():\n",
    "    # create a toplevel menu\n",
    "    global menu_bar\n",
    "    global file_menu\n",
    "    global edit_menu\n",
    "    global help_menu\n",
    "    \n",
    "    menu_bar = tk.Menu(root)\n",
    "\n",
    "    # create a pulldown menu, and add it to the menu bar\n",
    "    file_menu = tk.Menu(menu_bar, tearoff=0)\n",
    "    file_menu.add_command(label=\"Open\", command=on_open)\n",
    "    file_menu.add_command(label=\"Save\", command=on_save)\n",
    "    file_menu.add_separator()\n",
    "    file_menu.add_command(label=\"Exit\", command=on_closing)\n",
    "    menu_bar.add_cascade(label=\"File\", menu=file_menu)\n",
    "\n",
    "    # create more pulldown menus\n",
    "    edit_menu = tk.Menu(menu_bar, tearoff=0)\n",
    "    edit_menu.add_command(label=\"Cut\", command=on_cut)\n",
    "    edit_menu.add_command(label=\"Copy\", command=on_copy)\n",
    "    edit_menu.add_command(label=\"Paste\", command=on_paste)\n",
    "    menu_bar.add_cascade(label=\"Edit\", menu=edit_menu)\n",
    "\n",
    "    help_menu = tk.Menu(menu_bar, tearoff=0)\n",
    "    help_menu.add_command(label=\"About\", command=on_about)\n",
    "    menu_bar.add_cascade(label=\"Help\", menu=help_menu)\n",
    "\n",
    "    # display the menu\n",
    "    root.config(menu=menu_bar)"
   ]
  },
  {
   "cell_type": "code",
   "execution_count": 319,
   "metadata": {},
   "outputs": [],
   "source": [
    "def on_open():\n",
    "    on_stop(False)\n",
    "    root.withdraw()\n",
    "    file_path = filedialog.askopenfilename(initialdir=os.getcwd(),title = \"Select file\",filetypes = ((\"AutoClicker files\",\"*\" + file_extension),))\n",
    "    root.deiconify()\n",
    "    print(file_path)\n",
    "    \n",
    "    if len(file_path) == 0:\n",
    "        return False\n",
    "        \n",
    "    file = open(file_path, \"r\")\n",
    "    add_text(file.read())\n",
    "    file.close()\n",
    "    on_stop(False)\n",
    "    return True"
   ]
  },
  {
   "cell_type": "code",
   "execution_count": 320,
   "metadata": {},
   "outputs": [],
   "source": [
    "def on_save():\n",
    "    on_stop(False)\n",
    "    root.withdraw()\n",
    "    file_path = filedialog.asksaveasfilename(initialdir=os.getcwd(),title = \"Select file\",filetypes = ((\"AutoClicker files\",\"*\" + file_extension),))\n",
    "    root.deiconify()\n",
    "    print(file_path)\n",
    "    \n",
    "    if len(file_path) == 0:\n",
    "        return False\n",
    "    \n",
    "    if not file_path.endswith(file_extension):\n",
    "        file_path += file_extension\n",
    "    \n",
    "    file = open(file_path, \"w+\")\n",
    "    file.write(get_text())\n",
    "    file.close()\n",
    "    on_stop(False)\n",
    "    return True"
   ]
  },
  {
   "cell_type": "code",
   "execution_count": 321,
   "metadata": {},
   "outputs": [],
   "source": [
    "def on_cut():\n",
    "    pass"
   ]
  },
  {
   "cell_type": "code",
   "execution_count": 322,
   "metadata": {},
   "outputs": [],
   "source": [
    "def on_copy():\n",
    "    pass"
   ]
  },
  {
   "cell_type": "code",
   "execution_count": 323,
   "metadata": {},
   "outputs": [],
   "source": [
    "def on_paste():\n",
    "    pass"
   ]
  },
  {
   "cell_type": "code",
   "execution_count": 324,
   "metadata": {},
   "outputs": [],
   "source": [
    "def on_about():\n",
    "    pass"
   ]
  },
  {
   "cell_type": "code",
   "execution_count": 325,
   "metadata": {},
   "outputs": [],
   "source": [
    "def on_infinite_check():\n",
    "    global repetition_entry\n",
    "    global is_filedialog_open\n",
    "    \n",
    "    is_filedialog_open = True\n",
    "    state = \"normal\"\n",
    "    if infinite_repetitions.get() == 1:\n",
    "        state=\"disable\"\n",
    "    repetition_entry.config(state=state)\n",
    "    is_filedialog_open = False"
   ]
  },
  {
   "cell_type": "code",
   "execution_count": 326,
   "metadata": {},
   "outputs": [],
   "source": [
    "def on_closing():\n",
    "    global is_running\n",
    "    global is_recording\n",
    "    is_recording = False\n",
    "    is_running = False    \n",
    "    pythoncom.PumpWaitingMessages()   \n",
    "    root.destroy()"
   ]
  },
  {
   "cell_type": "code",
   "execution_count": 327,
   "metadata": {},
   "outputs": [],
   "source": [
    "def on_stop(remove):\n",
    "    global is_running\n",
    "    global play_toggle\n",
    "    global is_recording\n",
    "    global record_toggle\n",
    "    global text_field\n",
    "    \n",
    "    is_running = False\n",
    "    is_recording = False\n",
    "     \n",
    "    if remove:\n",
    "        remove_last_line()\n",
    "        \n",
    "    for toggle in play_toggle, record_toggle:\n",
    "        if toggle.config('relief')[-1] == 'sunken':\n",
    "            toggle.config(relief=\"raised\")\n",
    "            \n",
    "    text_field.configure(state=\"normal\")"
   ]
  },
  {
   "cell_type": "code",
   "execution_count": 328,
   "metadata": {},
   "outputs": [],
   "source": [
    "def on_keyboard_up_event(event):\n",
    "    global is_shift\n",
    "    global is_ctrl\n",
    "    global is_alt\n",
    "    global is_filedialog_open\n",
    "    \n",
    "    if is_filedialog_open:\n",
    "        return False\n",
    "    \n",
    "    if is_recording or is_running: \n",
    "        key = str(event.GetKey())\n",
    "        \n",
    "        if \"control\" in key:\n",
    "            is_ctrl = False\n",
    "        elif \"menu\" in key:\n",
    "            is_alt = False\n",
    "        elif \"shift\" in key:\n",
    "            is_shift = False\n",
    "            \n",
    "    return True"
   ]
  },
  {
   "cell_type": "code",
   "execution_count": 329,
   "metadata": {},
   "outputs": [],
   "source": [
    "def on_keyboard_down_event(event):\n",
    "    global is_recording\n",
    "    global text_field\n",
    "    global is_shift\n",
    "    global is_ctrl\n",
    "    global is_alt\n",
    "    global is_filedialog_open\n",
    "    \n",
    "    if is_filedialog_open:\n",
    "        return False\n",
    "\n",
    "    if is_recording or is_running:\n",
    "        \n",
    "        key = str(event.GetKey())\n",
    "        \n",
    "        text = \"\"\n",
    "        if is_ctrl:\n",
    "            text += \"strg + \"\n",
    "        if is_alt:\n",
    "            text += \"alt + \"\n",
    "        if is_shift:\n",
    "            text += \"shift + \"\n",
    "        \n",
    "        \n",
    "        if \"control\" in key:\n",
    "            is_ctrl = True\n",
    "            return True\n",
    "        elif \"menu\" in key:\n",
    "            is_alt = True\n",
    "            return True\n",
    "        elif \"shift\" in key:\n",
    "            is_shift = True\n",
    "            return True\n",
    "        \n",
    "        click_delay = add_delay()\n",
    "        add_text(text + key)\n",
    "        \n",
    "        if str(event.GetKey()) == \"F7\":\n",
    "            on_stop(True)\n",
    "    return True"
   ]
  },
  {
   "cell_type": "code",
   "execution_count": 330,
   "metadata": {},
   "outputs": [
    {
     "name": "stdout",
     "output_type": "stream",
     "text": [
      "PY_VAR18 - 1\n",
      "PY_VAR18 - 1\n",
      "PY_VAR18 - 1\n",
      "PY_VAR18 - 1\n",
      "PY_VAR18 - 1\n",
      "PY_VAR18 - 1\n"
     ]
    }
   ],
   "source": [
    "root = tk.Tk()\n",
    "root.title(\"Auto Clicker\")\n",
    "\n",
    "add_top_buttons()\n",
    "add_text_field()\n",
    "add_menu()\n",
    "\n",
    "record_toggle = create_toggle(\"Record\", tk.LEFT, record)\n",
    "play_toggle = create_toggle(\"Play\", tk.LEFT, play)\n",
    "infinite_repetitions, infinite_checkbox = add_checkbox(\"Infinite\", tk.RIGHT, on_infinite_check)\n",
    "repetitions, repetition_entry = add_int_entry(tk.RIGHT)\n",
    "\n",
    "hook_manager = pyHook.HookManager()\n",
    "hook_manager.KeyDown = on_keyboard_down_event\n",
    "hook_manager.KeyUp = on_keyboard_up_event\n",
    "hook_manager.HookKeyboard()\n",
    "    \n",
    "root.geometry(\"500x500\")\n",
    "root.protocol(\"WM_DELETE_WINDOW\", on_closing)\n",
    "root.mainloop()"
   ]
  },
  {
   "cell_type": "code",
   "execution_count": null,
   "metadata": {},
   "outputs": [],
   "source": []
  }
 ],
 "metadata": {
  "kernelspec": {
   "display_name": "Python 3",
   "language": "python",
   "name": "python3"
  },
  "language_info": {
   "codemirror_mode": {
    "name": "ipython",
    "version": 3
   },
   "file_extension": ".py",
   "mimetype": "text/x-python",
   "name": "python",
   "nbconvert_exporter": "python",
   "pygments_lexer": "ipython3",
   "version": "3.7.1"
  }
 },
 "nbformat": 4,
 "nbformat_minor": 2
}
