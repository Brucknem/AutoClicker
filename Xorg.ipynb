{
 "cells": [
  {
   "cell_type": "code",
   "execution_count": 62,
   "metadata": {},
   "outputs": [],
   "source": [
    "import subprocess\n",
    "from time import sleep\n",
    "from mss import mss\n",
    "from PIL import Image"
   ]
  },
  {
   "cell_type": "code",
   "execution_count": 63,
   "metadata": {},
   "outputs": [],
   "source": [
    "rs = \"RuneScape\""
   ]
  },
  {
   "cell_type": "code",
   "execution_count": 64,
   "metadata": {},
   "outputs": [],
   "source": [
    "def search_windows_by_name(name):\n",
    "    try:\n",
    "        return subprocess.check_output([\"xdotool\", \"search\", \"--name\", name]).splitlines()\n",
    "    except:\n",
    "        return []\n",
    "    \n",
    "def activate_window(window):\n",
    "    if window:\n",
    "        return subprocess.call([\"xdotool\", \"windowactivate\", window])\n",
    "\n",
    "def get_window_geometry(window):\n",
    "    if not window:\n",
    "        return ((10,10),(10,10))\n",
    "    \n",
    "    stats = subprocess.check_output([\"xdotool\", \"getwindowgeometry\", window]).splitlines()\n",
    "    geometry = 0\n",
    "    position = 0\n",
    "    for _stat in stats:\n",
    "        stat = _stat.decode(\"utf-8\").strip()\n",
    "        if stat.startswith(\"Position: \"):\n",
    "            stat = stat[stat.find(\" \"):].strip()\n",
    "            stat = stat[:stat.find(\" \")].strip()\n",
    "            position = stat.split(\",\")\n",
    "            position = (int(position[0]), int(position[1]))\n",
    "        if stat.startswith(\"Geometry: \"):\n",
    "            stat = stat[stat.find(\" \"):].strip()\n",
    "            geometry = stat.split(\"x\")\n",
    "            geometry = (int(geometry[0]), int(geometry[1]))\n",
    "\n",
    "    return (position, geometry)     "
   ]
  },
  {
   "cell_type": "code",
   "execution_count": 65,
   "metadata": {},
   "outputs": [],
   "source": [
    "def get_game_window():\n",
    "    for window in search_windows_by_name(rs):\n",
    "        if get_window_geometry(window) != ((10,10),(10,10)):\n",
    "            return window\n",
    "    return None\n",
    "\n",
    "def get_window_bbox(window):\n",
    "    if not window:\n",
    "        return None\n",
    "    geometry = get_window_geometry(window)\n",
    "    left = geometry[0][0]\n",
    "    top = geometry[0][1] - 19\n",
    "    right = left + geometry[1][0]\n",
    "    bottom = top + geometry[1][1]\n",
    "    return (left, top, right, bottom)    \n",
    "    \n",
    "def get_window_viewport(window):\n",
    "    bbox = get_window_bbox(window)\n",
    "    if not bbox:\n",
    "        return None\n",
    "    \n",
    "    with mss() as sct:\n",
    "        monitor = sct.monitors[1]\n",
    "        sct_img = sct.grab(bbox)\n",
    "        return Image.frombytes('RGB', sct_img.size, sct_img.bgra, 'raw', 'BGRX')"
   ]
  },
  {
   "cell_type": "code",
   "execution_count": 66,
   "metadata": {},
   "outputs": [],
   "source": [
    "def get_current_frame():\n",
    "    game_window = get_game_window()\n",
    "    if not game_window:\n",
    "        return None\n",
    "    \n",
    "    activate_window(game_window)\n",
    "    return get_window_viewport(game_window)"
   ]
  },
  {
   "cell_type": "code",
   "execution_count": 69,
   "metadata": {},
   "outputs": [],
   "source": [
    "get_current_frame()"
   ]
  },
  {
   "cell_type": "code",
   "execution_count": null,
   "metadata": {},
   "outputs": [],
   "source": []
  }
 ],
 "metadata": {
  "kernelspec": {
   "display_name": "Python 3",
   "language": "python",
   "name": "python3"
  },
  "language_info": {
   "codemirror_mode": {
    "name": "ipython",
    "version": 3
   },
   "file_extension": ".py",
   "mimetype": "text/x-python",
   "name": "python",
   "nbconvert_exporter": "python",
   "pygments_lexer": "ipython3",
   "version": "3.7.3"
  }
 },
 "nbformat": 4,
 "nbformat_minor": 2
}
