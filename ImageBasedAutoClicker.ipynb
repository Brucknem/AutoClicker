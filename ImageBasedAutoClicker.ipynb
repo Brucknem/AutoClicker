{
 "cells": [
  {
   "cell_type": "code",
   "execution_count": 1,
   "metadata": {},
   "outputs": [],
   "source": [
    "import time\n",
    "from pynput.mouse import Button, Controller as MouseController"
   ]
  },
  {
   "cell_type": "code",
   "execution_count": 2,
   "metadata": {},
   "outputs": [],
   "source": [
    "class Controller:\n",
    "    def __init__(self):\n",
    "        self.mouse = MouseController()\n",
    "        \n",
    "    def move_mouse(self, x, y):\n",
    "        def set_mouse_position(x, y):\n",
    "            self.mouse.position = (int(x), int(y))\n",
    "        def smooth_move_mouse(from_x, from_y, to_x, to_y, speed=0.2):\n",
    "            steps = 40\n",
    "            sleep_per_step = speed // steps\n",
    "            x_delta = (to_x - from_x) / steps\n",
    "            y_delta = (to_y - from_y) / steps\n",
    "            for step in range(steps):\n",
    "                new_x = x_delta * (step + 1) + from_x\n",
    "                new_y = y_delta * (step + 1) + from_y\n",
    "                set_mouse_position(new_x, new_y)\n",
    "                time.sleep(sleep_per_step)\n",
    "        return smooth_move_mouse(\n",
    "            self.mouse.position[0],\n",
    "            self.mouse.position[1],\n",
    "            x,\n",
    "            y\n",
    "        )"
   ]
  },
  {
   "cell_type": "code",
   "execution_count": null,
   "metadata": {},
   "outputs": [],
   "source": []
  }
 ],
 "metadata": {
  "kernelspec": {
   "display_name": "Python 3",
   "language": "python",
   "name": "python3"
  },
  "language_info": {
   "codemirror_mode": {
    "name": "ipython",
    "version": 3
   },
   "file_extension": ".py",
   "mimetype": "text/x-python",
   "name": "python",
   "nbconvert_exporter": "python",
   "pygments_lexer": "ipython3",
   "version": "3.7.1"
  }
 },
 "nbformat": 4,
 "nbformat_minor": 2
}
